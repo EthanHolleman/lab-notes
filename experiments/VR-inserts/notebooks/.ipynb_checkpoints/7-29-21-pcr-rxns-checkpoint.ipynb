{
 "cells": [
  {
   "cell_type": "markdown",
   "metadata": {},
   "source": [
    "# PCR reaction protocols for pFC8, pFC9 and pFC8tac\n",
    "\n",
    "These reactions amplifiy regions of pFC8, 9, and 8tac (previously labeled\n",
    "53 tac) for sanger sequencing."
   ]
  },
  {
   "cell_type": "code",
   "execution_count": 102,
   "metadata": {},
   "outputs": [],
   "source": [
    "import pandas as pd\n",
    "from pydna.amplify import pcr\n",
    "from pydna.dseqrecord import Dseqrecord\n",
    "from pydna.readers import read\n",
    "from pydna.tm import program  # pcr program for tac pol\n",
    "from pydna.primer import Primer\n",
    "import sys\n",
    "\n",
    "sys.path.append('experiments/VR-inserts/notebooks')"
   ]
  },
  {
   "cell_type": "markdown",
   "metadata": {},
   "source": [
    "Read primers."
   ]
  },
  {
   "cell_type": "code",
   "execution_count": 9,
   "metadata": {},
   "outputs": [
    {
     "data": {
      "text/html": [
       "<div>\n",
       "<style scoped>\n",
       "    .dataframe tbody tr th:only-of-type {\n",
       "        vertical-align: middle;\n",
       "    }\n",
       "\n",
       "    .dataframe tbody tr th {\n",
       "        vertical-align: top;\n",
       "    }\n",
       "\n",
       "    .dataframe thead th {\n",
       "        text-align: right;\n",
       "    }\n",
       "</style>\n",
       "<table border=\"1\" class=\"dataframe\">\n",
       "  <thead>\n",
       "    <tr style=\"text-align: right;\">\n",
       "      <th></th>\n",
       "      <th>Name</th>\n",
       "      <th>Sequence</th>\n",
       "      <th>Date created</th>\n",
       "      <th>Date ordered</th>\n",
       "      <th>Order details</th>\n",
       "      <th>Purification</th>\n",
       "      <th>Scale</th>\n",
       "      <th>Notes</th>\n",
       "      <th>Lab notebook</th>\n",
       "      <th>Storage location</th>\n",
       "      <th>Arrival Date</th>\n",
       "      <th>Empty</th>\n",
       "    </tr>\n",
       "    <tr>\n",
       "      <th>Name</th>\n",
       "      <th></th>\n",
       "      <th></th>\n",
       "      <th></th>\n",
       "      <th></th>\n",
       "      <th></th>\n",
       "      <th></th>\n",
       "      <th></th>\n",
       "      <th></th>\n",
       "      <th></th>\n",
       "      <th></th>\n",
       "      <th></th>\n",
       "      <th></th>\n",
       "    </tr>\n",
       "  </thead>\n",
       "  <tbody>\n",
       "    <tr>\n",
       "      <th>pFC8tac_tac_promoter_Primer_1</th>\n",
       "      <td>pFC8tac_tac_promoter_Primer_1</td>\n",
       "      <td>gcagaacggcacaacagc</td>\n",
       "      <td>7/29/21</td>\n",
       "      <td>7/29/21</td>\n",
       "      <td>146853411</td>\n",
       "      <td>STD</td>\n",
       "      <td>25nm</td>\n",
       "      <td>Amplifies tac promoter of pFC plasmids</td>\n",
       "      <td>7-29-21.md</td>\n",
       "      <td>NaN</td>\n",
       "      <td>NaN</td>\n",
       "      <td>False</td>\n",
       "    </tr>\n",
       "    <tr>\n",
       "      <th>pFC8tac_tac_promoter_Primer_2</th>\n",
       "      <td>pFC8tac_tac_promoter_Primer_2</td>\n",
       "      <td>gtattaccgcctttgagtgagctg</td>\n",
       "      <td>7/29/21</td>\n",
       "      <td>7/29/21</td>\n",
       "      <td>146853411</td>\n",
       "      <td>STD</td>\n",
       "      <td>25nm</td>\n",
       "      <td>Amplifies tac promoter of pFC plasmids</td>\n",
       "      <td>7-29-21.md</td>\n",
       "      <td>NaN</td>\n",
       "      <td>NaN</td>\n",
       "      <td>False</td>\n",
       "    </tr>\n",
       "    <tr>\n",
       "      <th>pFC9_t7_primer_1</th>\n",
       "      <td>pFC9_t7_primer_1</td>\n",
       "      <td>cccgccgcgcttaatg</td>\n",
       "      <td>7/29/21</td>\n",
       "      <td>7/29/21</td>\n",
       "      <td>146853411</td>\n",
       "      <td>STD</td>\n",
       "      <td>25nm</td>\n",
       "      <td>Amplfies t7 promoter of pFC plasmids</td>\n",
       "      <td>7-29-21.md</td>\n",
       "      <td>NaN</td>\n",
       "      <td>NaN</td>\n",
       "      <td>False</td>\n",
       "    </tr>\n",
       "    <tr>\n",
       "      <th>pFC9_t7_primer_2</th>\n",
       "      <td>pFC9_t7_primer_2</td>\n",
       "      <td>gccccaatgcgagcgg</td>\n",
       "      <td>7/29/21</td>\n",
       "      <td>7/29/21</td>\n",
       "      <td>146853411</td>\n",
       "      <td>STD</td>\n",
       "      <td>25nm</td>\n",
       "      <td>Amplfies t7 promoter of pFC plasmids</td>\n",
       "      <td>7-29-21.md</td>\n",
       "      <td>NaN</td>\n",
       "      <td>NaN</td>\n",
       "      <td>False</td>\n",
       "    </tr>\n",
       "    <tr>\n",
       "      <th>pFC8_t7_primer_2</th>\n",
       "      <td>pFC8_t7_primer_2</td>\n",
       "      <td>gaaggggcagtagcacagtcc</td>\n",
       "      <td>7/29/21</td>\n",
       "      <td>7/29/21</td>\n",
       "      <td>146853411</td>\n",
       "      <td>STD</td>\n",
       "      <td>25nm</td>\n",
       "      <td>Amplifies t7 promoter of pFC8 when used with p...</td>\n",
       "      <td>7-29-21.md</td>\n",
       "      <td>NaN</td>\n",
       "      <td>NaN</td>\n",
       "      <td>False</td>\n",
       "    </tr>\n",
       "    <tr>\n",
       "      <th>Variable_region_insert_primer_1</th>\n",
       "      <td>Variable_region_insert_primer_1</td>\n",
       "      <td>tacgactcactatagggcgaattgg</td>\n",
       "      <td>7/29/21</td>\n",
       "      <td>7/29/21</td>\n",
       "      <td>146853411</td>\n",
       "      <td>STD</td>\n",
       "      <td>25nm</td>\n",
       "      <td>Amplfies any variable region insert fragment</td>\n",
       "      <td>7-29-21.md</td>\n",
       "      <td>NaN</td>\n",
       "      <td>NaN</td>\n",
       "      <td>False</td>\n",
       "    </tr>\n",
       "    <tr>\n",
       "      <th>Variable_region_insert_primer_2</th>\n",
       "      <td>Variable_region_insert_primer_2</td>\n",
       "      <td>cctcctcgcctcggtcac</td>\n",
       "      <td>7/29/21</td>\n",
       "      <td>7/29/21</td>\n",
       "      <td>146853411</td>\n",
       "      <td>STD</td>\n",
       "      <td>25nm</td>\n",
       "      <td>Amplfies any variable region insert fragment</td>\n",
       "      <td>7-29-21.md</td>\n",
       "      <td>NaN</td>\n",
       "      <td>NaN</td>\n",
       "      <td>False</td>\n",
       "    </tr>\n",
       "  </tbody>\n",
       "</table>\n",
       "</div>"
      ],
      "text/plain": [
       "                                                            Name  \\\n",
       "Name                                                               \n",
       "pFC8tac_tac_promoter_Primer_1      pFC8tac_tac_promoter_Primer_1   \n",
       "pFC8tac_tac_promoter_Primer_2      pFC8tac_tac_promoter_Primer_2   \n",
       "pFC9_t7_primer_1                                pFC9_t7_primer_1   \n",
       "pFC9_t7_primer_2                                pFC9_t7_primer_2   \n",
       "pFC8_t7_primer_2                                pFC8_t7_primer_2   \n",
       "Variable_region_insert_primer_1  Variable_region_insert_primer_1   \n",
       "Variable_region_insert_primer_2  Variable_region_insert_primer_2   \n",
       "\n",
       "                                                 Sequence  Date created  \\\n",
       "Name                                                                      \n",
       "pFC8tac_tac_promoter_Primer_1           gcagaacggcacaacagc      7/29/21   \n",
       "pFC8tac_tac_promoter_Primer_2     gtattaccgcctttgagtgagctg      7/29/21   \n",
       "pFC9_t7_primer_1                          cccgccgcgcttaatg      7/29/21   \n",
       "pFC9_t7_primer_2                          gccccaatgcgagcgg      7/29/21   \n",
       "pFC8_t7_primer_2                     gaaggggcagtagcacagtcc      7/29/21   \n",
       "Variable_region_insert_primer_1  tacgactcactatagggcgaattgg      7/29/21   \n",
       "Variable_region_insert_primer_2         cctcctcgcctcggtcac      7/29/21   \n",
       "\n",
       "                                Date ordered  Order details Purification  \\\n",
       "Name                                                                       \n",
       "pFC8tac_tac_promoter_Primer_1        7/29/21      146853411          STD   \n",
       "pFC8tac_tac_promoter_Primer_2        7/29/21      146853411          STD   \n",
       "pFC9_t7_primer_1                     7/29/21      146853411          STD   \n",
       "pFC9_t7_primer_2                     7/29/21      146853411          STD   \n",
       "pFC8_t7_primer_2                     7/29/21      146853411          STD   \n",
       "Variable_region_insert_primer_1      7/29/21      146853411          STD   \n",
       "Variable_region_insert_primer_2      7/29/21      146853411          STD   \n",
       "\n",
       "                                Scale  \\\n",
       "Name                                    \n",
       "pFC8tac_tac_promoter_Primer_1    25nm   \n",
       "pFC8tac_tac_promoter_Primer_2    25nm   \n",
       "pFC9_t7_primer_1                 25nm   \n",
       "pFC9_t7_primer_2                 25nm   \n",
       "pFC8_t7_primer_2                 25nm   \n",
       "Variable_region_insert_primer_1  25nm   \n",
       "Variable_region_insert_primer_2  25nm   \n",
       "\n",
       "                                                                             Notes  \\\n",
       "Name                                                                                 \n",
       "pFC8tac_tac_promoter_Primer_1               Amplifies tac promoter of pFC plasmids   \n",
       "pFC8tac_tac_promoter_Primer_2               Amplifies tac promoter of pFC plasmids   \n",
       "pFC9_t7_primer_1                              Amplfies t7 promoter of pFC plasmids   \n",
       "pFC9_t7_primer_2                              Amplfies t7 promoter of pFC plasmids   \n",
       "pFC8_t7_primer_2                 Amplifies t7 promoter of pFC8 when used with p...   \n",
       "Variable_region_insert_primer_1       Amplfies any variable region insert fragment   \n",
       "Variable_region_insert_primer_2       Amplfies any variable region insert fragment   \n",
       "\n",
       "                                Lab notebook  Storage location  Arrival Date  \\\n",
       "Name                                                                           \n",
       "pFC8tac_tac_promoter_Primer_1     7-29-21.md               NaN           NaN   \n",
       "pFC8tac_tac_promoter_Primer_2     7-29-21.md               NaN           NaN   \n",
       "pFC9_t7_primer_1                  7-29-21.md               NaN           NaN   \n",
       "pFC9_t7_primer_2                  7-29-21.md               NaN           NaN   \n",
       "pFC8_t7_primer_2                  7-29-21.md               NaN           NaN   \n",
       "Variable_region_insert_primer_1   7-29-21.md               NaN           NaN   \n",
       "Variable_region_insert_primer_2   7-29-21.md               NaN           NaN   \n",
       "\n",
       "                                 Empty  \n",
       "Name                                    \n",
       "pFC8tac_tac_promoter_Primer_1    False  \n",
       "pFC8tac_tac_promoter_Primer_2    False  \n",
       "pFC9_t7_primer_1                 False  \n",
       "pFC9_t7_primer_2                 False  \n",
       "pFC8_t7_primer_2                 False  \n",
       "Variable_region_insert_primer_1  False  \n",
       "Variable_region_insert_primer_2  False  "
      ]
     },
     "execution_count": 9,
     "metadata": {},
     "output_type": "execute_result"
    }
   ],
   "source": [
    "primers = pd.read_csv('data_files/Ethan_Oligos-dsDNA_oligos.tsv', sep='\\t').set_index('Name', drop=False)\n",
    "primers"
   ]
  },
  {
   "cell_type": "markdown",
   "metadata": {},
   "source": [
    "Read template DNA for reactions."
   ]
  },
  {
   "cell_type": "code",
   "execution_count": 103,
   "metadata": {},
   "outputs": [],
   "source": [
    "pFC8 = 'data_files/resources/files/genbank/pFC8.gb'\n",
    "pFC9 = 'data_files/resources/files/genbank/pFC9.gb'\n",
    "pFC8tac = 'data_files/resources/files/genbank/pFC8tacT1T2.gb'\n",
    "\n",
    "template_paths = (pFC8, pFC9, pFC8tac)\n",
    "templates = [Dseqrecord(read(tp)) for tp in template_paths]"
   ]
  },
  {
   "cell_type": "markdown",
   "metadata": {},
   "source": [
    "Setup helper PCR functions."
   ]
  },
  {
   "cell_type": "code",
   "execution_count": 116,
   "metadata": {},
   "outputs": [],
   "source": [
    "def pcr_program(primers, template):\n",
    "    product = pcr(primers, template)\n",
    "    return program(product)\n",
    "\n",
    "def get_primer_seq(name, primer_table):\n",
    "    return Primer(primer_table.loc[name].values[1])"
   ]
  },
  {
   "cell_type": "markdown",
   "metadata": {},
   "source": [
    "## pFC8"
   ]
  },
  {
   "cell_type": "code",
   "execution_count": 111,
   "metadata": {},
   "outputs": [],
   "source": [
    "pFC8 = templates[0]\n",
    "pfc8_primers = get_primer_seq('pFC9_t7_primer_1', primers), get_primer_seq('pFC8_t7_primer_2', primers)"
   ]
  },
  {
   "cell_type": "code",
   "execution_count": 117,
   "metadata": {},
   "outputs": [
    {
     "data": {
      "text/plain": [
       "|95°C|95°C               |    |tmf:66.0\n",
       "|____|_____          72°C|72°C|tmr:69.5\n",
       "|5min|30s  \\ 61.3°C _____|____|45s/kb\n",
       "|    |      \\______/ 0:30|5min|GC 55%\n",
       "|    |       30s         |    |319bp"
      ]
     },
     "execution_count": 117,
     "metadata": {},
     "output_type": "execute_result"
    }
   ],
   "source": [
    "pcr_program(pfc8_primers, pFC8)"
   ]
  },
  {
   "cell_type": "markdown",
   "metadata": {},
   "source": [
    "## pFC9"
   ]
  },
  {
   "cell_type": "code",
   "execution_count": 123,
   "metadata": {},
   "outputs": [
    {
     "data": {
      "text/plain": [
       "|95°C|95°C               |    |tmf:66.0\n",
       "|____|_____          72°C|72°C|tmr:69.1\n",
       "|5min|30s  \\ 61.3°C _____|____|45s/kb\n",
       "|    |      \\______/ 0:30|5min|GC 56%\n",
       "|    |       30s         |    |300bp"
      ]
     },
     "execution_count": 123,
     "metadata": {},
     "output_type": "execute_result"
    }
   ],
   "source": [
    "pFC9 = templates[1]\n",
    "pfc9_primers = get_primer_seq('pFC9_t7_primer_1', primers), get_primer_seq('pFC9_t7_primer_2', primers)\n",
    "pcr_program(pfc9_primers, pFC9)"
   ]
  },
  {
   "cell_type": "markdown",
   "metadata": {},
   "source": [
    "## pFC8tac"
   ]
  },
  {
   "cell_type": "code",
   "execution_count": 124,
   "metadata": {},
   "outputs": [
    {
     "data": {
      "text/plain": [
       "|95°C|95°C               |    |tmf:64.1\n",
       "|____|_____          72°C|72°C|tmr:66.4\n",
       "|5min|30s  \\ 60.7°C _____|____|45s/kb\n",
       "|    |      \\______/ 0:30|5min|GC 55%\n",
       "|    |       30s         |    |301bp"
      ]
     },
     "execution_count": 124,
     "metadata": {},
     "output_type": "execute_result"
    }
   ],
   "source": [
    "pFC9 = templates[2]\n",
    "pfc8tac_primers = get_primer_seq('pFC8tac_tac_promoter_Primer_1', primers), get_primer_seq('pFC8tac_tac_promoter_Primer_2', primers)\n",
    "pcr_program(pfc8tac_primers, pFC8)"
   ]
  }
 ],
 "metadata": {
  "kernelspec": {
   "display_name": "Python 3",
   "language": "python",
   "name": "python3"
  },
  "language_info": {
   "codemirror_mode": {
    "name": "ipython",
    "version": 3
   },
   "file_extension": ".py",
   "mimetype": "text/x-python",
   "name": "python",
   "nbconvert_exporter": "python",
   "pygments_lexer": "ipython3",
   "version": "3.9.6"
  }
 },
 "nbformat": 4,
 "nbformat_minor": 2
}
